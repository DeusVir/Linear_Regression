{
  "nbformat": 4,
  "nbformat_minor": 0,
  "metadata": {
    "colab": {
      "provenance": []
    },
    "kernelspec": {
      "name": "python3",
      "display_name": "Python 3"
    },
    "language_info": {
      "name": "python"
    }
  },
  "cells": [
    {
      "cell_type": "code",
      "execution_count": null,
      "metadata": {
        "colab": {
          "base_uri": "https://localhost:8080/"
        },
        "id": "7VDiL9ygJ2cB",
        "outputId": "ba364ed2-99ec-4fc5-b321-c0de483396e5"
      },
      "outputs": [
        {
          "output_type": "execute_result",
          "data": {
            "text/plain": [
              "nan"
            ]
          },
          "metadata": {},
          "execution_count": 120
        }
      ],
      "source": [
        "import numpy as np\n",
        "from pandas import *\n",
        "import random\n",
        "\n",
        "class MyLineReg():\n",
        "  def __init__(self,weigths=None,n_iter=100,learning_rate=None,metric=None,y_pred=None,reg=None,l1_coef=0,l2_coef=0,sgd_sample=None,random_state=42):\n",
        "    self.n_iter=n_iter\n",
        "    self.learning_rate=learning_rate\n",
        "    self.weights=weigths\n",
        "    self.metric=metric\n",
        "    self.y_pred=y_pred\n",
        "    self.reg=reg\n",
        "    self.l1_coef=l1_coef\n",
        "    self.l2_coef=l2_coef\n",
        "    self.sgd_sample=sgd_sample\n",
        "    self.random_state=random_state\n",
        "  def __str__(self):\n",
        "    return \"MyLineReg class: \"+ \", \".join(('{}={}'.format(item, self.__dict__[item]) for item in self.__dict__))\n",
        "  def __repr__(self):\n",
        "     return \"MyLineReg class: \"+ \", \".join(('{}={}'.format(item, self.__dict__[item]) for item in self.__dict__))\n",
        "  def fit(self,X,y,verbose=False):\n",
        "\n",
        "    random.seed(self.random_state)\n",
        "    self.weights=np.ones(X.shape[1]+1)\n",
        "    X.insert(0,\"ones\",np.ones(X.shape[0]))\n",
        "    metrica=None\n",
        "    y_pred=None\n",
        "    is_double=isinstance(self.learning_rate, float)\n",
        "    X.reset_index(drop=True,inplace=True)\n",
        "    y.reset_index(drop=True,inplace=True)\n",
        "    for i in range(1,self.n_iter+1):\n",
        "\n",
        "      if isinstance(self.sgd_sample,int):\n",
        "        sample_rows_idx = random.sample(range(X.shape[0]), self.sgd_sample)\n",
        "      elif self.sgd_sample != None:\n",
        "        sample_rows_idx = random.sample(range(X.shape[0]), int(self.sgd_sample*len(y)))\n",
        "      else:\n",
        "        sample_rows_idx=X.index\n",
        "\n",
        "      X_cut = X.iloc[sample_rows_idx]\n",
        "      y_cut = y.iloc[sample_rows_idx]\n",
        "\n",
        "      y_pred = self.weights @ X_cut.T\n",
        "\n",
        "      if self.reg == \"l1\":\n",
        "        MSE = np.mean((y-y_pred)**2) + self.l1_coef * np.sum(self.weights)\n",
        "        gradient = -2 *  X_cut.T @ (y_cut-y_pred)/len(y_cut) + self.l1_coef * np.sign(self.weights)\n",
        "      elif self.reg==\"l2\":\n",
        "        MSE = np.mean((y-y_pred)**2) + self.l2_coef * np.sum(self.weights**2)\n",
        "        gradient = -2 *  X_cut.T  @ (y_cut-y_pred)/len(y_cut) + self.l2_coef * 2 * self.weights\n",
        "      elif self.reg==\"elasticnet\":\n",
        "        MSE = np.mean((y-y_pred)**2) + self.l1_coef * np.sum(self.weights) + self.l2_coef * np.sum(self.weights**2)\n",
        "        gradient = -2 *  X_cut.T  @ (y_cut-y_pred)/len(y_cut) + self.l1_coef * np.sign(self.weights) + self.l2_coef * 2 * self.weights\n",
        "      else:\n",
        "        MSE = np.mean((y-y_pred)**2)\n",
        "        gradient = -2 *  X_cut.T  @ (y_cut-y_pred)/len(y_cut)\n",
        "\n",
        "      if not is_double:\n",
        "        self.weights-=self.learning_rate(i) * gradient\n",
        "      else:\n",
        "        self.weights-=self.learning_rate * gradient\n",
        "\n",
        "      if verbose and (i+1)%verbose==0:\n",
        "        if self.metric!=None:\n",
        "          print(f\"{i+1} | loss : {MSE: .2f} | {self.metric}:{metrica}\")\n",
        "        else:\n",
        "           print(f\"{i+1} | loss : {MSE: .2f}\")\n",
        "\n",
        "    self.y_pred=self.weights @ X.T\n",
        "\n",
        "\n",
        "  def get_coef(self):\n",
        "    return self.weights[1:]\n",
        "\n",
        "  def predict(self,X):\n",
        "    X.insert(0,\"ones\",np.ones(X.shape[0]))\n",
        "    return np.mean(X @ self.weights)\n",
        "\n",
        "  def get_best_score(self):\n",
        "    y_pred = self.y_pred\n",
        "    if self.metric==\"mae\":\n",
        "      return np.mean(abs(y-y_pred))\n",
        "    elif self.metric == 'mse':\n",
        "      return np.mean((y-y_pred)**2)\n",
        "    elif self.metric==\"rmse\":\n",
        "       return (np.mean((y-y_pred)**2))**(1/2)\n",
        "    elif self.metric ==\"mape\":\n",
        "      return 100*np.mean(abs((y-y_pred)/y))\n",
        "    elif self.metric==\"r2\":\n",
        "      y_sred=np.mean(y)\n",
        "      return 1- (np.sum((y-y_pred)**2))/(np.sum((y-y_sred)**2))\n",
        "a=MyLineReg(learning_rate=2.0,sgd_sample=0.1)\n",
        "y=Series([1])\n",
        "a.fit(DataFrame(np.random.randn(1, 1)),y)\n",
        "a.predict(DataFrame(np.random.randn(1,1)))\n"
      ]
    },
    {
      "cell_type": "code",
      "source": [],
      "metadata": {
        "id": "g9uCaFgjVWK1"
      },
      "execution_count": null,
      "outputs": []
    }
  ]
}